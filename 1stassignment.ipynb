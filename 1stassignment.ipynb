{
 "cells": [
  {
   "cell_type": "code",
   "execution_count": 8,
   "id": "230a80fd-1cd4-4433-8270-41d261f24413",
   "metadata": {},
   "outputs": [
    {
     "name": "stdout",
     "output_type": "stream",
     "text": [
      "value of x and y before swapping: 10 20\n",
      "value of xand y after swapping:: 20 10\n"
     ]
    }
   ],
   "source": [
    "'''declare variables aand assign integer values swap the variable without using temporary variable'''\n",
    "x=10\n",
    "y=20\n",
    "print(\"value of x and y before swapping:\",x, y)\n",
    "\"\"\"swap the variables\"\"\"\n",
    "x,y=y,x\n",
    "print(\"value of xand y after swapping::\",x, y)"
   ]
  },
  {
   "cell_type": "code",
   "execution_count": 6,
   "id": "feb41b67-38d6-4e85-86e8-1196e44b647a",
   "metadata": {},
   "outputs": [
    {
     "name": "stdout",
     "output_type": "stream",
     "text": [
      "Enter length and Width\n"
     ]
    },
    {
     "name": "stdin",
     "output_type": "stream",
     "text": [
      " 44\n",
      " 44\n"
     ]
    },
    {
     "name": "stdout",
     "output_type": "stream",
     "text": [
      "Length of rectangle: 44.0\n",
      "Width of rectangle: 44.0\n",
      "Area of rectangle: 1936.0\n"
     ]
    }
   ],
   "source": [
    "'''Area of Rectangle'''\n",
    "print(\"Enter length and Width\")\n",
    "length=float(input())\n",
    "width=float(input())\n",
    "print(\"Length of rectangle:\",length)\n",
    "print(\"Width of rectangle:\",width)\n",
    "Area =length * width\n",
    "print(\"Area of rectangle:\",Area)\n"
   ]
  },
  {
   "cell_type": "code",
   "execution_count": 8,
   "id": "35d60c94-e41e-453a-8c12-b9398f9ef13a",
   "metadata": {},
   "outputs": [
    {
     "name": "stdout",
     "output_type": "stream",
     "text": [
      "Enter the temperature in celsius:\n"
     ]
    },
    {
     "name": "stdin",
     "output_type": "stream",
     "text": [
      " 32\n"
     ]
    },
    {
     "name": "stdout",
     "output_type": "stream",
     "text": [
      "Temperature in Fahrenheit is: 89.6\n"
     ]
    }
   ],
   "source": [
    "'''celsius   to Fahrenheit'''\n",
    "print(\"Enter the temperature in celsius:\")\n",
    "c=float(input())\n",
    "F = float(1.8*c +32)\n",
    "print(\"Temperature in Fahrenheit is:\",F)\n"
   ]
  },
  {
   "cell_type": "code",
   "execution_count": 9,
   "id": "db72894c-ab49-460d-8cd1-d2952b94f2ed",
   "metadata": {},
   "outputs": [
    {
     "name": "stdout",
     "output_type": "stream",
     "text": [
      "Enter a string:\n"
     ]
    },
    {
     "name": "stdin",
     "output_type": "stream",
     "text": [
      " sfggshgdhags\n"
     ]
    },
    {
     "name": "stdout",
     "output_type": "stream",
     "text": [
      "Length of string is: 12\n"
     ]
    }
   ],
   "source": [
    "'''Length of string'''\n",
    "print(\"Enter a string:\")\n",
    "s= input()\n",
    "print(\"Length of string is:\",len(s))\n"
   ]
  },
  {
   "cell_type": "code",
   "execution_count": 103,
   "id": "c857a47d-81a5-42a4-a877-92382014e71c",
   "metadata": {},
   "outputs": [
    {
     "name": "stdout",
     "output_type": "stream",
     "text": [
      "Enter a string:\n"
     ]
    },
    {
     "name": "stdin",
     "output_type": "stream",
     "text": [
      " hello\n"
     ]
    },
    {
     "name": "stdout",
     "output_type": "stream",
     "text": [
      "Number of vowels are: 2\n"
     ]
    }
   ],
   "source": [
    "'''Counting the no of vowels'''\n",
    "print(\"Enter a string:\")\n",
    "s=str(input())\n",
    "count=0\n",
    "for i in s:\n",
    "    if(i== 'a' or i== 'e' or i== 'o' or i== 'u' or i== 'A' or i=='E' or i== 'O' or i== 'U'):\n",
    "     count = count +1\n",
    "print(\"Number of vowels are:\",count)\n",
    "  "
   ]
  },
  {
   "cell_type": "code",
   "execution_count": 51,
   "id": "b54bab1b-19a4-464a-b5ac-c731dd75e2f6",
   "metadata": {},
   "outputs": [
    {
     "name": "stdout",
     "output_type": "stream",
     "text": [
      "Enter a string:\n"
     ]
    },
    {
     "name": "stdin",
     "output_type": "stream",
     "text": [
      " you\n"
     ]
    },
    {
     "name": "stdout",
     "output_type": "stream",
     "text": [
      "Reverse of string: uoy\n"
     ]
    }
   ],
   "source": [
    "'''Reverse a string'''\n",
    "print(\"Enter a string:\")\n",
    "s=str(input())\n",
    "print(\"Reverse of string:\",s[-1: :-1])\n"
   ]
  },
  {
   "cell_type": "code",
   "execution_count": 90,
   "id": "44d6fe50-4ab2-44fc-87a1-10c166190766",
   "metadata": {},
   "outputs": [
    {
     "name": "stdout",
     "output_type": "stream",
     "text": [
      "Enter a string:\n"
     ]
    },
    {
     "name": "stdin",
     "output_type": "stream",
     "text": [
      " hello world\n"
     ]
    },
    {
     "name": "stdout",
     "output_type": "stream",
     "text": [
      "Modified string is: helloworld\n"
     ]
    }
   ],
   "source": [
    "'''Remove all the spaces and print modified string without space'''\n",
    "print(\"Enter a string:\")\n",
    "s=str(input())\n",
    "s1=s.replace(\" \",\"\")\n",
    "print(\"Modified string is:\",s1)"
   ]
  },
  {
   "cell_type": "code",
   "execution_count": 85,
   "id": "33c53cad-b82e-49ea-afc4-0880f9a40044",
   "metadata": {},
   "outputs": [
    {
     "name": "stdout",
     "output_type": "stream",
     "text": [
      "Enter a string:\n"
     ]
    },
    {
     "name": "stdin",
     "output_type": "stream",
     "text": [
      " madam\n"
     ]
    },
    {
     "name": "stdout",
     "output_type": "stream",
     "text": [
      "String is palindrome\n"
     ]
    }
   ],
   "source": [
    "'''Palindrome '''\n",
    "print(\"Enter a string:\")\n",
    "string = str(input())\n",
    "if(string==string[::-1]):\n",
    "          print(\"String is palindrome\")\n",
    "else:\n",
    "        print(\"String is not palindrome\")   "
   ]
  },
  {
   "cell_type": "code",
   "execution_count": null,
   "id": "ce780172-f506-4a00-8acd-5566f070c8ff",
   "metadata": {},
   "outputs": [],
   "source": []
  }
 ],
 "metadata": {
  "kernelspec": {
   "display_name": "Python 3 (ipykernel)",
   "language": "python",
   "name": "python3"
  },
  "language_info": {
   "codemirror_mode": {
    "name": "ipython",
    "version": 3
   },
   "file_extension": ".py",
   "mimetype": "text/x-python",
   "name": "python",
   "nbconvert_exporter": "python",
   "pygments_lexer": "ipython3",
   "version": "3.10.8"
  }
 },
 "nbformat": 4,
 "nbformat_minor": 5
}
